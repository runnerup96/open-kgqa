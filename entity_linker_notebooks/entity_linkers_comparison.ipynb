{
 "cells": [
  {
   "cell_type": "code",
   "execution_count": 2,
   "id": "initial_id",
   "metadata": {},
   "outputs": [],
   "source": [
    "import re\n",
    "import json\n",
    "import aiohttp\n",
    "import asyncio\n",
    "import numpy as np\n",
    "import pandas as pd\n",
    "from tqdm import tqdm"
   ]
  },
  {
   "cell_type": "markdown",
   "id": "9c2ffd6f-a6eb-449d-b749-84bcb73993e3",
   "metadata": {},
   "source": [
    "# Prepare datasets"
   ]
  },
  {
   "cell_type": "code",
   "execution_count": 3,
   "id": "dd4d8ef8-1a16-4ec0-befc-b472d0ac50e5",
   "metadata": {},
   "outputs": [],
   "source": [
    "def get_qald_questions(split='test'):\n",
    "    questions = []\n",
    "\n",
    "    with open(f'../data/qald/qald_{split}.json', 'r') as f:\n",
    "        data = json.load(f)['questions']\n",
    "        \n",
    "    for item in data:\n",
    "        for q in item['question']:\n",
    "            if q['language'] == 'en':\n",
    "                question = q['string']\n",
    "                \n",
    "        questions.append({\n",
    "            'question': question,\n",
    "            'gold_entities': [a.split('wd:')[1] for a in re.findall(r'\\b(wd:[Q]\\d+)\\b', item['query']['sparql'])]\n",
    "        })\n",
    "        \n",
    "    return questions\n",
    "\n",
    "def get_lcquad_questions(split='test'):\n",
    "    questions = []\n",
    "    \n",
    "    with open(f'../data/lcquad/lcquad_2_{split}.json', 'r') as f:\n",
    "        data = json.load(f)\n",
    "\n",
    "    for item in data:\n",
    "        questions.append({\n",
    "            'question': item['en_question'],\n",
    "            'gold_entities': [a.split('wd:')[1] for a in re.findall(r'\\b(wd:[Q]\\d+)\\b', item['query'])]\n",
    "        })\n",
    "    \n",
    "    return questions\n",
    "\n",
    "\n",
    "def get_pat_questions(split='test'):\n",
    "    with open(f'../data/pat/custom_iid_pat_{split}.json', 'r') as f:\n",
    "        data = json.load(f)\n",
    "    \n",
    "    questions = []\n",
    "    \n",
    "    for item in data:\n",
    "        questions.append({\n",
    "            'question': item['question'],\n",
    "            'gold_entities': [item['subject']['subject']]\n",
    "        })\n",
    "    \n",
    "    return questions"
   ]
  },
  {
   "cell_type": "markdown",
   "id": "3ffb5138-9a6e-4b73-b90d-461bc6e1ba3f",
   "metadata": {},
   "source": [
    "# Prepare Entity Linkers"
   ]
  },
  {
   "cell_type": "code",
   "execution_count": 4,
   "id": "97c05437-bc0d-4d79-bc49-1427b4cc257a",
   "metadata": {},
   "outputs": [
    {
     "name": "stderr",
     "output_type": "stream",
     "text": [
      "/Users/amalekseev/Documents/Thesis KGQA/kgqa_venv/lib/python3.11/site-packages/tqdm/auto.py:22: TqdmWarning: IProgress not found. Please update jupyter and ipywidgets. See https://ipywidgets.readthedocs.io/en/stable/user_install.html\n",
      "  from .autonotebook import tqdm as notebook_tqdm\n",
      "/Users/amalekseev/Documents/Thesis KGQA/entity/ReFinED/src/refined/model_components/refined_model.py:626: FutureWarning: You are using `torch.load` with `weights_only=False` (the current default value), which uses the default pickle module implicitly. It is possible to construct malicious pickle data which will execute arbitrary code during unpickling (See https://github.com/pytorch/pytorch/blob/main/SECURITY.md#untrusted-models for more details). In a future release, the default value for `weights_only` will be flipped to `True`. This limits the functions that could be executed during unpickling. Arbitrary objects will no longer be allowed to be loaded via this mode unless they are explicitly allowlisted by the user via `torch.serialization.add_safe_globals`. We recommend you start setting `weights_only=True` for any use case where you don't have full control of the loaded file. Please open an issue on GitHub for any issues related to this experimental feature.\n",
      "  checkpoint = torch.load(io.BytesIO(f.read()), map_location=\"cpu\")\n"
     ]
    }
   ],
   "source": [
    "from refined.inference.processor import Refined\n",
    "import spacy\n",
    "\n",
    "SPACY_MODEL = spacy.load(\"en_core_web_md\")\n",
    "SPACY_MODEL.add_pipe(\"entityLinker\", last=True)\n",
    "\n",
    "def get_spacy_entities(text, nlp=SPACY_MODEL):\n",
    "    doc = nlp(text)\n",
    "    \n",
    "    return [{\n",
    "        'id': f'Q{ent.get_id()}',\n",
    "        'url': ent.get_url(),\n",
    "        'label': ent.get_label(),\n",
    "        'description': ent.get_description()\n",
    "    } for ent in doc._.linkedEntities]\n",
    "\n",
    "\n",
    "REFINED_MODEL = Refined.from_pretrained(model_name='wikipedia_model_with_numbers', entity_set=\"wikidata\")\n",
    "\n",
    "def get_refined_entities(text, refined=REFINED_MODEL):\n",
    "    return [{\n",
    "        'id': span.__dict__['predicted_entity'].wikidata_entity_id,\n",
    "        'label': span.__dict__['predicted_entity'].wikipedia_entity_title,\n",
    "        'text': span.__dict__['text'],\n",
    "        'span': tuple([span.__dict__['start'], span.__dict__['ln']]),\n",
    "        'score': span.__dict__['entity_linking_model_confidence_score']\n",
    "        } for span in refined.process_text(text) if span.predicted_entity is not None]\n",
    "\n",
    "async def get_falcon_entities(text):\n",
    "    url = 'https://labs.tib.eu/falcon/falcon2/api?mode=long'\n",
    "    payload = {\"text\": text}\n",
    "    headers = {\"Content-Type\": \"application/json\"}\n",
    "    \n",
    "    retries = 20\n",
    "    delay = 1  # seconds\n",
    "\n",
    "    for attempt in range(retries):\n",
    "        try:\n",
    "            async with aiohttp.ClientSession() as session:\n",
    "                async with session.post(url, headers=headers, data=json.dumps(payload)) as response:\n",
    "                    if response.status == 200:\n",
    "                        response_data = await response.json()\n",
    "\n",
    "                        entities = [\n",
    "                            entity[\"URI\"].split(\"/\")[-1] for entity in response_data.get(\"entities_wikidata\", [])\n",
    "                        ]\n",
    "                        relations = [\n",
    "                            relation[\"URI\"].split(\"/\")[-1] for relation in response_data.get(\"relations_wikidata\", [])\n",
    "                        ]\n",
    "\n",
    "                        return entities\n",
    "                    else:\n",
    "                        print(f\"Unexpected status code: {response.status}\")\n",
    "        except Exception as e:\n",
    "            continue\n",
    "        \n",
    "        if attempt < retries - 1:\n",
    "            print(f\"Retrying in {delay + attempt} seconds...\")\n",
    "            await asyncio.sleep(delay + attempt)\n",
    "\n",
    "    print(\"Failed to retrieve data after multiple attempts.\")\n",
    "    return []"
   ]
  },
  {
   "cell_type": "markdown",
   "id": "622a3f25-3f1e-447b-98c6-2a3ef1ba28b8",
   "metadata": {},
   "source": [
    "# Prepare metrics"
   ]
  },
  {
   "cell_type": "code",
   "execution_count": 5,
   "id": "17cd0e38-edc5-4819-a3b2-a01ab3573acb",
   "metadata": {},
   "outputs": [],
   "source": [
    "def calculate_metrics(pred, gold):\n",
    "    em = set(gold) == set(pred)\n",
    "\n",
    "    true_positives = set(gold) & set(pred) \n",
    "\n",
    "    precision = len(true_positives) / len(pred) if pred else 0.0\n",
    "\n",
    "    # Recall: Proportion of gold entities that are correctly predicted\n",
    "    recall = len(true_positives) / len(gold) if gold else 0.0\n",
    "\n",
    "    # F1-Score: Harmonic mean of Precision and Recall\n",
    "    f1 = 2 * (precision * recall) / (precision + recall) if precision + recall > 0 else 0.0\n",
    "\n",
    "    return {'em': em, 'f1': f1, 'recall': recall}"
   ]
  },
  {
   "cell_type": "markdown",
   "id": "352dbb63-eee3-49f4-9d66-49de7bb2e48b",
   "metadata": {},
   "source": [
    "# Pipeline"
   ]
  },
  {
   "cell_type": "code",
   "execution_count": 6,
   "id": "7f125760-3fd4-492c-b032-5c2903a06a80",
   "metadata": {},
   "outputs": [],
   "source": [
    "linkers = {\n",
    "    'falcon': lambda question: get_falcon_entities(question),\n",
    "    'refined': lambda question: [ent['id'] for ent in get_refined_entities(question)],\n",
    "    'spacy': lambda question: [ent['id'] for ent in get_spacy_entities(question)]\n",
    "}\n",
    "\n",
    "datasets = {\n",
    "    'qald': get_qald_questions,\n",
    "    'lcquad': get_lcquad_questions,\n",
    "    'pat': get_pat_questions\n",
    "}"
   ]
  },
  {
   "cell_type": "code",
   "execution_count": 6,
   "id": "557803df-9bca-47cf-b2ca-82dee8372af2",
   "metadata": {},
   "outputs": [],
   "source": [
    "async def pipeline(name, split):\n",
    "    dataset = datasets[name](split)\n",
    "    \n",
    "    linking_metrics = {linker: {} for linker in linkers.keys()}\n",
    "    \n",
    "    for item in tqdm(dataset):\n",
    "        gold = item['gold_entities']\n",
    "        \n",
    "        for linker_name, linker in linkers.items():\n",
    "            if linker_name == 'falcon':\n",
    "                item[linker_name] = await linker(item['question'])\n",
    "            else:\n",
    "                item[linker_name] = linker(item['question'])\n",
    "    \n",
    "            if gold != []:\n",
    "                for metric, value in calculate_metrics(item[linker_name], gold).items():\n",
    "                    linking_metrics[linker_name][metric] = linking_metrics[linker_name].get(metric, []) + [value]\n",
    "    \n",
    "    for linker in linkers.keys():\n",
    "        for metric in linking_metrics[linker].keys():\n",
    "            linking_metrics[linker][metric] = round(np.mean(linking_metrics[linker][metric]), 2)\n",
    "    \n",
    "    with open(f'../data/{name}/{name}_{split}_entities.json', 'w', encoding='utf-8') as f:\n",
    "        json.dump(dataset, f, ensure_ascii=False, indent=4)\n",
    "    \n",
    "    return linking_metrics"
   ]
  },
  {
   "cell_type": "code",
   "execution_count": 12,
   "id": "8215cc94-e58c-4f87-87f0-2ab9913cd3ab",
   "metadata": {},
   "outputs": [
    {
     "name": "stdout",
     "output_type": "stream",
     "text": [
      "pat\n"
     ]
    },
    {
     "name": "stderr",
     "output_type": "stream",
     "text": [
      "100%|███████████████████████████████████████| 1233/1233 [47:48<00:00,  2.33s/it]\n"
     ]
    }
   ],
   "source": [
    "# results = {}\n",
    "\n",
    "for name in list(datasets.keys())[2:]:\n",
    "    if name != 'lcquad':\n",
    "        print(name)\n",
    "        linking_metrics = await pipeline(name, 'test')\n",
    "        results[name] = pd.DataFrame(linking_metrics)"
   ]
  },
  {
   "cell_type": "code",
   "execution_count": 93,
   "id": "e65a0203-957b-49be-8595-f0337aee1c2b",
   "metadata": {},
   "outputs": [
    {
     "data": {
      "text/html": [
       "<div>\n",
       "<style scoped>\n",
       "    .dataframe tbody tr th:only-of-type {\n",
       "        vertical-align: middle;\n",
       "    }\n",
       "\n",
       "    .dataframe tbody tr th {\n",
       "        vertical-align: top;\n",
       "    }\n",
       "\n",
       "    .dataframe thead th {\n",
       "        text-align: right;\n",
       "    }\n",
       "</style>\n",
       "<table border=\"1\" class=\"dataframe\">\n",
       "  <thead>\n",
       "    <tr style=\"text-align: right;\">\n",
       "      <th></th>\n",
       "      <th>falcon</th>\n",
       "      <th>refined</th>\n",
       "      <th>spacy</th>\n",
       "    </tr>\n",
       "  </thead>\n",
       "  <tbody>\n",
       "    <tr>\n",
       "      <th>em</th>\n",
       "      <td>0.20</td>\n",
       "      <td>0.48</td>\n",
       "      <td>0.16</td>\n",
       "    </tr>\n",
       "    <tr>\n",
       "      <th>f1</th>\n",
       "      <td>0.33</td>\n",
       "      <td>0.65</td>\n",
       "      <td>0.49</td>\n",
       "    </tr>\n",
       "    <tr>\n",
       "      <th>recall</th>\n",
       "      <td>0.34</td>\n",
       "      <td>0.63</td>\n",
       "      <td>0.61</td>\n",
       "    </tr>\n",
       "  </tbody>\n",
       "</table>\n",
       "</div>"
      ],
      "text/plain": [
       "        falcon  refined  spacy\n",
       "em        0.20     0.48   0.16\n",
       "f1        0.33     0.65   0.49\n",
       "recall    0.34     0.63   0.61"
      ]
     },
     "execution_count": 93,
     "metadata": {},
     "output_type": "execute_result"
    }
   ],
   "source": [
    "results['qald']"
   ]
  },
  {
   "cell_type": "code",
   "execution_count": 10,
   "id": "9dd0f3d8-2017-4ed2-b43c-6cf4dbc6d6c3",
   "metadata": {},
   "outputs": [
    {
     "data": {
      "text/html": [
       "<div>\n",
       "<style scoped>\n",
       "    .dataframe tbody tr th:only-of-type {\n",
       "        vertical-align: middle;\n",
       "    }\n",
       "\n",
       "    .dataframe tbody tr th {\n",
       "        vertical-align: top;\n",
       "    }\n",
       "\n",
       "    .dataframe thead th {\n",
       "        text-align: right;\n",
       "    }\n",
       "</style>\n",
       "<table border=\"1\" class=\"dataframe\">\n",
       "  <thead>\n",
       "    <tr style=\"text-align: right;\">\n",
       "      <th></th>\n",
       "      <th>falcon</th>\n",
       "      <th>refined</th>\n",
       "      <th>spacy</th>\n",
       "    </tr>\n",
       "  </thead>\n",
       "  <tbody>\n",
       "    <tr>\n",
       "      <th>em</th>\n",
       "      <td>0.26</td>\n",
       "      <td>0.36</td>\n",
       "      <td>0.08</td>\n",
       "    </tr>\n",
       "    <tr>\n",
       "      <th>f1</th>\n",
       "      <td>0.43</td>\n",
       "      <td>0.57</td>\n",
       "      <td>0.46</td>\n",
       "    </tr>\n",
       "    <tr>\n",
       "      <th>recall</th>\n",
       "      <td>0.46</td>\n",
       "      <td>0.59</td>\n",
       "      <td>0.66</td>\n",
       "    </tr>\n",
       "  </tbody>\n",
       "</table>\n",
       "</div>"
      ],
      "text/plain": [
       "        falcon  refined  spacy\n",
       "em        0.26     0.36   0.08\n",
       "f1        0.43     0.57   0.46\n",
       "recall    0.46     0.59   0.66"
      ]
     },
     "execution_count": 10,
     "metadata": {},
     "output_type": "execute_result"
    }
   ],
   "source": [
    "results['lcquad']"
   ]
  },
  {
   "cell_type": "code",
   "execution_count": 13,
   "id": "e8e9858a-6314-45cb-a8a1-0416dc5801ae",
   "metadata": {},
   "outputs": [
    {
     "data": {
      "text/html": [
       "<div>\n",
       "<style scoped>\n",
       "    .dataframe tbody tr th:only-of-type {\n",
       "        vertical-align: middle;\n",
       "    }\n",
       "\n",
       "    .dataframe tbody tr th {\n",
       "        vertical-align: top;\n",
       "    }\n",
       "\n",
       "    .dataframe thead th {\n",
       "        text-align: right;\n",
       "    }\n",
       "</style>\n",
       "<table border=\"1\" class=\"dataframe\">\n",
       "  <thead>\n",
       "    <tr style=\"text-align: right;\">\n",
       "      <th></th>\n",
       "      <th>falcon</th>\n",
       "      <th>refined</th>\n",
       "      <th>spacy</th>\n",
       "    </tr>\n",
       "  </thead>\n",
       "  <tbody>\n",
       "    <tr>\n",
       "      <th>em</th>\n",
       "      <td>0.11</td>\n",
       "      <td>0.93</td>\n",
       "      <td>0.00</td>\n",
       "    </tr>\n",
       "    <tr>\n",
       "      <th>f1</th>\n",
       "      <td>0.35</td>\n",
       "      <td>0.93</td>\n",
       "      <td>0.40</td>\n",
       "    </tr>\n",
       "    <tr>\n",
       "      <th>recall</th>\n",
       "      <td>0.48</td>\n",
       "      <td>0.94</td>\n",
       "      <td>0.79</td>\n",
       "    </tr>\n",
       "  </tbody>\n",
       "</table>\n",
       "</div>"
      ],
      "text/plain": [
       "        falcon  refined  spacy\n",
       "em        0.11     0.93   0.00\n",
       "f1        0.35     0.93   0.40\n",
       "recall    0.48     0.94   0.79"
      ]
     },
     "execution_count": 13,
     "metadata": {},
     "output_type": "execute_result"
    }
   ],
   "source": [
    "results['pat']"
   ]
  },
  {
   "cell_type": "code",
   "execution_count": null,
   "id": "214ade51-0775-4c7e-9f3e-3f1aae4db8c9",
   "metadata": {},
   "outputs": [],
   "source": []
  }
 ],
 "metadata": {
  "kernelspec": {
   "display_name": "KGQA venv (Thesis)",
   "language": "python",
   "name": "kgqa_venv"
  },
  "language_info": {
   "codemirror_mode": {
    "name": "ipython",
    "version": 3
   },
   "file_extension": ".py",
   "mimetype": "text/x-python",
   "name": "python",
   "nbconvert_exporter": "python",
   "pygments_lexer": "ipython3",
   "version": "3.11.8"
  }
 },
 "nbformat": 4,
 "nbformat_minor": 5
}
