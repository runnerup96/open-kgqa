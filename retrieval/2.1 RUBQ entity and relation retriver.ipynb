{
 "cells": [
  {
   "cell_type": "code",
   "execution_count": null,
   "id": "90f162d3-fade-4ed0-b4be-909bb0c283db",
   "metadata": {},
   "outputs": [],
   "source": []
  },
  {
   "cell_type": "code",
   "execution_count": 1,
   "id": "a8e614b3-c689-4b56-8990-0ef8c50cda79",
   "metadata": {},
   "outputs": [],
   "source": [
    "import json"
   ]
  },
  {
   "cell_type": "code",
   "execution_count": null,
   "id": "37354212-dc42-4035-8508-0780b1d53d0f",
   "metadata": {},
   "outputs": [],
   "source": []
  },
  {
   "cell_type": "raw",
   "id": "981211b9-c060-4452-82d8-680da6357192",
   "metadata": {},
   "source": [
    "* Подготовить индекс с tf-idf и сравнить качество на RUBQ\n",
    "-- насколько будет хуже Refined"
   ]
  },
  {
   "cell_type": "markdown",
   "id": "df0b719f-0505-4ad0-8b02-ec23c8731371",
   "metadata": {},
   "source": [
    "#### Data prepartion"
   ]
  },
  {
   "cell_type": "code",
   "execution_count": 2,
   "id": "b35f50d1-7c38-4322-b6c1-20076271b924",
   "metadata": {},
   "outputs": [
    {
     "data": {
      "text/plain": [
       "77951"
      ]
     },
     "execution_count": 2,
     "metadata": {},
     "output_type": "execute_result"
    }
   ],
   "source": [
    "entities_description_dict = json.load(open(\"/Users/somov-od/Downloads/entities.json\", 'r'))\n",
    "len(entities_description_dict)\n",
    "\n",
    "global_index_entities_dict = {key: value['label'] for key, value in entities_description_dict.items()}\n",
    "len(global_index_entities_dict)"
   ]
  },
  {
   "cell_type": "code",
   "execution_count": null,
   "id": "ba42f678-ad8d-4941-9e8b-77526d984e68",
   "metadata": {},
   "outputs": [],
   "source": []
  },
  {
   "cell_type": "markdown",
   "id": "748f0dfc-acc1-4dd4-9ab0-ecb3e61fd6da",
   "metadata": {},
   "source": [
    "#### RUBQ Files"
   ]
  },
  {
   "cell_type": "code",
   "execution_count": 3,
   "id": "2a423b1a-f42e-49f1-a133-ede88d1dd307",
   "metadata": {},
   "outputs": [
    {
     "data": {
      "text/plain": [
       "1733"
      ]
     },
     "execution_count": 3,
     "metadata": {},
     "output_type": "execute_result"
    }
   ],
   "source": [
    "def extract_entities_dict(rubq_split, lang):\n",
    "    result_dict = dict()\n",
    "    for sample in rubq_split:\n",
    "        id2alias = sample.get('id2alias')\n",
    "        if id2alias:\n",
    "            for key, value_dict in id2alias.items():\n",
    "                lang_alias_list = value_dict.get(lang)\n",
    "                if lang_alias_list:\n",
    "                    entity_string = \", \".join(lang_alias_list)\n",
    "                    result_dict[key] = entity_string\n",
    "    return result_dict\n",
    "                \n",
    "\n",
    "rubq_train = json.load(open('/Users/somov-od/Documents/phd/projects/open_kgqa/data/RuBQ/RuBQ_2.0/train_with_aliases.json', 'r'))\n",
    "rubq_test = json.load(open('/Users/somov-od/Documents/phd/projects/open_kgqa/data/RuBQ/RuBQ_2.0/test_with_aliases.json'))\n",
    "\n",
    "all_samples = rubq_train + rubq_test\n",
    "\n",
    "rubq_entities_dict = extract_entities_dict(all_samples, 'en')\n",
    "len(rubq_entities_dict)"
   ]
  },
  {
   "cell_type": "code",
   "execution_count": 4,
   "id": "76843eea-6642-46bf-a25c-b201575b9c0c",
   "metadata": {},
   "outputs": [
    {
     "name": "stdout",
     "output_type": "stream",
     "text": [
      "Result index\n",
      "Index size:  79163\n"
     ]
    }
   ],
   "source": [
    "print('Result index')\n",
    "lucene_index = dict()\n",
    "lucene_index.update(global_index_entities_dict)\n",
    "lucene_index.update(rubq_entities_dict)\n",
    "print('Index size: ', len(lucene_index))"
   ]
  },
  {
   "cell_type": "code",
   "execution_count": 5,
   "id": "a3e03447-a7c4-4459-b263-b8e344015291",
   "metadata": {},
   "outputs": [],
   "source": [
    "json.dump(lucene_index, open('Lucene index files/entities index/just_labels_and_rubq_aliases_dump.json', 'w'),\n",
    "         ensure_ascii=False, indent=4)"
   ]
  },
  {
   "cell_type": "markdown",
   "id": "40379db5-f9de-4956-a2b2-876f8e4b65b0",
   "metadata": {},
   "source": [
    "### Retriver"
   ]
  },
  {
   "cell_type": "code",
   "execution_count": 6,
   "id": "3d1dc9bb-44ed-4473-94ec-b5de5cbf1a12",
   "metadata": {},
   "outputs": [
    {
     "name": "stderr",
     "output_type": "stream",
     "text": [
      "/opt/anaconda3/lib/python3.9/site-packages/pandas/core/computation/expressions.py:21: UserWarning: Pandas requires version '2.8.4' or newer of 'numexpr' (version '2.7.3' currently installed).\n",
      "  from pandas.core.computation.check import NUMEXPR_INSTALLED\n",
      "/opt/anaconda3/lib/python3.9/site-packages/pandas/core/arrays/masked.py:60: UserWarning: Pandas requires version '1.3.6' or newer of 'bottleneck' (version '1.3.2' currently installed).\n",
      "  from pandas.core import (\n"
     ]
    },
    {
     "ename": "SystemError",
     "evalue": "Error calling dlopen(b'/Library/Java/JavaVirtualMachines/zulu-21.jdk/Contents/Home/lib/libjli.dylib'): b\"dlopen(/Library/Java/JavaVirtualMachines/zulu-21.jdk/Contents/Home/lib/libjli.dylib, 0x000A): tried: '/Library/Java/JavaVirtualMachines/zulu-21.jdk/Contents/Home/lib/libjli.dylib' (mach-o file, but is an incompatible architecture (have 'arm64', need 'x86_64')), '/usr/local/lib/libjli.dylib' (no such file), '/usr/lib/libjli.dylib' (no such file)\"",
     "output_type": "error",
     "traceback": [
      "\u001b[0;31m---------------------------------------------------------------------------\u001b[0m",
      "\u001b[0;31mSystemError\u001b[0m                               Traceback (most recent call last)",
      "\u001b[0;32m/var/folders/hg/wyjbzhnn71d60tgsx5l8yt1c0000gn/T/ipykernel_41441/4014353265.py\u001b[0m in \u001b[0;36m<module>\u001b[0;34m\u001b[0m\n\u001b[0;32m----> 1\u001b[0;31m \u001b[0;32mfrom\u001b[0m \u001b[0mpyserini\u001b[0m\u001b[0;34m.\u001b[0m\u001b[0msearch\u001b[0m\u001b[0;34m.\u001b[0m\u001b[0mlucene\u001b[0m \u001b[0;32mimport\u001b[0m \u001b[0mLuceneSearcher\u001b[0m\u001b[0;34m\u001b[0m\u001b[0;34m\u001b[0m\u001b[0m\n\u001b[0m\u001b[1;32m      2\u001b[0m \u001b[0;34m\u001b[0m\u001b[0m\n\u001b[1;32m      3\u001b[0m \u001b[0mk1\u001b[0m\u001b[0;34m,\u001b[0m \u001b[0mb\u001b[0m \u001b[0;34m=\u001b[0m \u001b[0;36m0.4\u001b[0m\u001b[0;34m,\u001b[0m \u001b[0;36m0.4\u001b[0m\u001b[0;34m\u001b[0m\u001b[0;34m\u001b[0m\u001b[0m\n\u001b[1;32m      4\u001b[0m \u001b[0;34m\u001b[0m\u001b[0m\n\u001b[1;32m      5\u001b[0m \u001b[0msearcher\u001b[0m \u001b[0;34m=\u001b[0m \u001b[0mLuceneSearcher\u001b[0m\u001b[0;34m(\u001b[0m\u001b[0;34m\"Lucene index files/entities index/just_labels_and_rubq_aliases_dump.json\"\u001b[0m\u001b[0;34m)\u001b[0m\u001b[0;34m\u001b[0m\u001b[0;34m\u001b[0m\u001b[0m\n",
      "\u001b[0;32m/opt/anaconda3/lib/python3.9/site-packages/pyserini/search/__init__.py\u001b[0m in \u001b[0;36m<module>\u001b[0;34m\u001b[0m\n\u001b[1;32m     15\u001b[0m \u001b[0;31m#\u001b[0m\u001b[0;34m\u001b[0m\u001b[0;34m\u001b[0m\u001b[0m\n\u001b[1;32m     16\u001b[0m \u001b[0;34m\u001b[0m\u001b[0m\n\u001b[0;32m---> 17\u001b[0;31m \u001b[0;32mfrom\u001b[0m \u001b[0;34m.\u001b[0m\u001b[0m_base\u001b[0m \u001b[0;32mimport\u001b[0m \u001b[0mJQuery\u001b[0m\u001b[0;34m,\u001b[0m \u001b[0mJQueryGenerator\u001b[0m\u001b[0;34m,\u001b[0m \u001b[0mJDisjunctionMaxQueryGenerator\u001b[0m\u001b[0;34m,\u001b[0m \u001b[0mget_topics\u001b[0m\u001b[0;34m,\u001b[0m\u001b[0;31m\\\u001b[0m\u001b[0;34m\u001b[0m\u001b[0;34m\u001b[0m\u001b[0m\n\u001b[0m\u001b[1;32m     18\u001b[0m     \u001b[0mget_topics_with_reader\u001b[0m\u001b[0;34m,\u001b[0m \u001b[0mget_qrels_file\u001b[0m\u001b[0;34m,\u001b[0m \u001b[0mget_qrels\u001b[0m\u001b[0;34m\u001b[0m\u001b[0;34m\u001b[0m\u001b[0m\n\u001b[1;32m     19\u001b[0m \u001b[0;32mfrom\u001b[0m \u001b[0;34m.\u001b[0m\u001b[0mlucene\u001b[0m \u001b[0;32mimport\u001b[0m \u001b[0mJLuceneSearcherResult\u001b[0m\u001b[0;34m,\u001b[0m \u001b[0mLuceneSimilarities\u001b[0m\u001b[0;34m,\u001b[0m \u001b[0mLuceneFusionSearcher\u001b[0m\u001b[0;34m,\u001b[0m \u001b[0mLuceneSearcher\u001b[0m\u001b[0;34m\u001b[0m\u001b[0;34m\u001b[0m\u001b[0m\n",
      "\u001b[0;32m/opt/anaconda3/lib/python3.9/site-packages/pyserini/search/_base.py\u001b[0m in \u001b[0;36m<module>\u001b[0;34m\u001b[0m\n\u001b[1;32m     24\u001b[0m \u001b[0;34m\u001b[0m\u001b[0m\n\u001b[1;32m     25\u001b[0m \u001b[0;32mfrom\u001b[0m \u001b[0mpyserini\u001b[0m\u001b[0;34m.\u001b[0m\u001b[0mutil\u001b[0m \u001b[0;32mimport\u001b[0m \u001b[0mget_cache_home\u001b[0m\u001b[0;34m\u001b[0m\u001b[0;34m\u001b[0m\u001b[0m\n\u001b[0;32m---> 26\u001b[0;31m \u001b[0;32mfrom\u001b[0m \u001b[0mpyserini\u001b[0m\u001b[0;34m.\u001b[0m\u001b[0mpyclass\u001b[0m \u001b[0;32mimport\u001b[0m \u001b[0mautoclass\u001b[0m\u001b[0;34m\u001b[0m\u001b[0;34m\u001b[0m\u001b[0m\n\u001b[0m\u001b[1;32m     27\u001b[0m \u001b[0;34m\u001b[0m\u001b[0m\n\u001b[1;32m     28\u001b[0m \u001b[0mlogger\u001b[0m \u001b[0;34m=\u001b[0m \u001b[0mlogging\u001b[0m\u001b[0;34m.\u001b[0m\u001b[0mgetLogger\u001b[0m\u001b[0;34m(\u001b[0m\u001b[0m__name__\u001b[0m\u001b[0;34m)\u001b[0m\u001b[0;34m\u001b[0m\u001b[0;34m\u001b[0m\u001b[0m\n",
      "\u001b[0;32m/opt/anaconda3/lib/python3.9/site-packages/pyserini/pyclass.py\u001b[0m in \u001b[0;36m<module>\u001b[0;34m\u001b[0m\n\u001b[1;32m     25\u001b[0m                     os.path.join(os.path.split(__file__)[0], 'resources/jars/'))\n\u001b[1;32m     26\u001b[0m \u001b[0;34m\u001b[0m\u001b[0m\n\u001b[0;32m---> 27\u001b[0;31m \u001b[0;32mfrom\u001b[0m \u001b[0mjnius\u001b[0m \u001b[0;32mimport\u001b[0m \u001b[0mautoclass\u001b[0m\u001b[0;34m,\u001b[0m \u001b[0mcast\u001b[0m\u001b[0;34m\u001b[0m\u001b[0;34m\u001b[0m\u001b[0m\n\u001b[0m\u001b[1;32m     28\u001b[0m \u001b[0;34m\u001b[0m\u001b[0m\n\u001b[1;32m     29\u001b[0m \u001b[0;31m# Base Java classes\u001b[0m\u001b[0;34m\u001b[0m\u001b[0;34m\u001b[0m\u001b[0m\n",
      "\u001b[0;32m/opt/anaconda3/lib/python3.9/site-packages/jnius/__init__.py\u001b[0m in \u001b[0;36m<module>\u001b[0;34m\u001b[0m\n\u001b[1;32m     43\u001b[0m \u001b[0;32melse\u001b[0m\u001b[0;34m:\u001b[0m\u001b[0;34m\u001b[0m\u001b[0;34m\u001b[0m\u001b[0m\n\u001b[1;32m     44\u001b[0m     \u001b[0;32mfrom\u001b[0m \u001b[0;34m.\u001b[0m\u001b[0mjnius\u001b[0m \u001b[0;32mimport\u001b[0m \u001b[0;34m*\u001b[0m  \u001b[0;31m# noqa\u001b[0m\u001b[0;34m\u001b[0m\u001b[0;34m\u001b[0m\u001b[0m\n\u001b[0;32m---> 45\u001b[0;31m     \u001b[0;32mfrom\u001b[0m \u001b[0;34m.\u001b[0m\u001b[0mreflect\u001b[0m \u001b[0;32mimport\u001b[0m \u001b[0;34m*\u001b[0m  \u001b[0;31m# noqa\u001b[0m\u001b[0;34m\u001b[0m\u001b[0;34m\u001b[0m\u001b[0m\n\u001b[0m\u001b[1;32m     46\u001b[0m \u001b[0;34m\u001b[0m\u001b[0m\n\u001b[1;32m     47\u001b[0m \u001b[0;31m# XXX monkey patch methods that cannot be in cython.\u001b[0m\u001b[0;34m\u001b[0m\u001b[0;34m\u001b[0m\u001b[0m\n",
      "\u001b[0;32m/opt/anaconda3/lib/python3.9/site-packages/jnius/reflect.py\u001b[0m in \u001b[0;36m<module>\u001b[0;34m\u001b[0m\n\u001b[1;32m     17\u001b[0m \u001b[0;34m\u001b[0m\u001b[0m\n\u001b[1;32m     18\u001b[0m \u001b[0;34m\u001b[0m\u001b[0m\n\u001b[0;32m---> 19\u001b[0;31m \u001b[0;32mclass\u001b[0m \u001b[0mClass\u001b[0m\u001b[0;34m(\u001b[0m\u001b[0mJavaClass\u001b[0m\u001b[0;34m,\u001b[0m \u001b[0mmetaclass\u001b[0m\u001b[0;34m=\u001b[0m\u001b[0mMetaJavaClass\u001b[0m\u001b[0;34m)\u001b[0m\u001b[0;34m:\u001b[0m\u001b[0;34m\u001b[0m\u001b[0;34m\u001b[0m\u001b[0m\n\u001b[0m\u001b[1;32m     20\u001b[0m     \u001b[0m__javaclass__\u001b[0m \u001b[0;34m=\u001b[0m \u001b[0;34m'java/lang/Class'\u001b[0m\u001b[0;34m\u001b[0m\u001b[0;34m\u001b[0m\u001b[0m\n\u001b[1;32m     21\u001b[0m \u001b[0;34m\u001b[0m\u001b[0m\n",
      "\u001b[0;32mjnius/jnius_export_class.pxi\u001b[0m in \u001b[0;36mjnius.MetaJavaClass.__new__\u001b[0;34m()\u001b[0m\n",
      "\u001b[0;32mjnius/jnius_export_class.pxi\u001b[0m in \u001b[0;36mjnius.MetaJavaClass.resolve_class\u001b[0;34m()\u001b[0m\n",
      "\u001b[0;32mjnius/jnius_env.pxi\u001b[0m in \u001b[0;36mjnius.get_jnienv\u001b[0;34m()\u001b[0m\n",
      "\u001b[0;32mjnius/jnius_jvm_dlopen.pxi\u001b[0m in \u001b[0;36mjnius.get_platform_jnienv\u001b[0;34m()\u001b[0m\n",
      "\u001b[0;32mjnius/jnius_jvm_dlopen.pxi\u001b[0m in \u001b[0;36mjnius.create_jnienv\u001b[0;34m()\u001b[0m\n",
      "\u001b[0;31mSystemError\u001b[0m: Error calling dlopen(b'/Library/Java/JavaVirtualMachines/zulu-21.jdk/Contents/Home/lib/libjli.dylib'): b\"dlopen(/Library/Java/JavaVirtualMachines/zulu-21.jdk/Contents/Home/lib/libjli.dylib, 0x000A): tried: '/Library/Java/JavaVirtualMachines/zulu-21.jdk/Contents/Home/lib/libjli.dylib' (mach-o file, but is an incompatible architecture (have 'arm64', need 'x86_64')), '/usr/local/lib/libjli.dylib' (no such file), '/usr/lib/libjli.dylib' (no such file)\""
     ]
    }
   ],
   "source": [
    "from pyserini.search.lucene import LuceneSearcher\n",
    "\n",
    "k1, b = 0.4, 0.4\n",
    "\n",
    "searcher = LuceneSearcher(\"Lucene index files/entities index/just_labels_and_rubq_aliases_dump.json\")\n",
    "\n",
    "searcher.set_bm25(args.k1, args.b)"
   ]
  },
  {
   "cell_type": "code",
   "execution_count": null,
   "id": "b97a987d-8af8-4cb1-bab5-d8cbea33b5c2",
   "metadata": {},
   "outputs": [],
   "source": []
  },
  {
   "cell_type": "code",
   "execution_count": null,
   "id": "98c958f2-d468-451c-9c58-3380321a291b",
   "metadata": {},
   "outputs": [],
   "source": []
  },
  {
   "cell_type": "code",
   "execution_count": 2,
   "id": "68d50d9d-4280-4d8a-9553-16f9f3b5448b",
   "metadata": {},
   "outputs": [
    {
     "data": {
      "text/plain": [
       "77951"
      ]
     },
     "execution_count": 2,
     "metadata": {},
     "output_type": "execute_result"
    }
   ],
   "source": [
    "entities_description_dict = json.load(open(\"/Users/somov-od/Downloads/entities.json\", 'r'))\n",
    "len(entities_description_dict)"
   ]
  },
  {
   "cell_type": "code",
   "execution_count": 3,
   "id": "02c89900-e1ae-4da2-a7f0-bdf0045703e6",
   "metadata": {},
   "outputs": [
    {
     "data": {
      "text/plain": [
       "['Q202042', 'Q113400', 'Q432602', 'Q4057027', 'Q84263196']"
      ]
     },
     "execution_count": 3,
     "metadata": {},
     "output_type": "execute_result"
    }
   ],
   "source": [
    "list(entities_description_dict.keys())[:5]"
   ]
  },
  {
   "cell_type": "code",
   "execution_count": 5,
   "id": "146d583d-f7dc-4f06-9b53-4f236d82d1f1",
   "metadata": {},
   "outputs": [
    {
     "data": {
      "text/plain": [
       "{'wiki': 'https://en.wikipedia.org/wiki/David_Hidalgo',\n",
       " 'description': 'American musician',\n",
       " 'label': 'David Hidalgo'}"
      ]
     },
     "execution_count": 5,
     "metadata": {},
     "output_type": "execute_result"
    }
   ],
   "source": [
    "entities_description_dict['Q432602']"
   ]
  },
  {
   "cell_type": "code",
   "execution_count": 6,
   "id": "3e585991-15c1-44e5-bdd1-5f2789b487e6",
   "metadata": {},
   "outputs": [],
   "source": [
    "realtions_description_dict = json.load(open(\"/Users/somov-od/Downloads/relations.json\", 'r'))"
   ]
  },
  {
   "cell_type": "code",
   "execution_count": 9,
   "id": "3e430adf-0083-4dc9-9708-b2ae8b36bc94",
   "metadata": {
    "collapsed": true,
    "jupyter": {
     "outputs_hidden": true
    },
    "tags": []
   },
   "outputs": [
    {
     "data": {
      "text/plain": [
       "{'P749': {'label': 'parent organization',\n",
       "  'description': 'parent organization of an organization, opposite of subsidiaries (P355)'},\n",
       " 'P2578': {'label': 'studies',\n",
       "  'description': 'subject item is the academic field studying the object item of this property'},\n",
       " 'P509': {'label': 'cause of death',\n",
       "  'description': \"underlying or immediate cause of death.  Underlying cause (e.g. car accident, stomach cancer) preferred.  Use 'manner of death' (P1196) for broadest category, e.g. natural causes, accident, homicide, suicide\"},\n",
       " 'P149': {'label': 'architectural style',\n",
       "  'description': 'architectural style of a structure'},\n",
       " 'P451': {'label': 'unmarried partner',\n",
       "  'description': 'someone with whom the person is in a relationship without being married. Use \"spouse\" (P26) for married couples'},\n",
       " 'P452': {'label': 'industry',\n",
       "  'description': 'industry of company or organization'},\n",
       " 'P123': {'label': 'publisher',\n",
       "  'description': 'organization or person responsible for publishing books, periodicals, games or software'},\n",
       " 'P194': {'label': 'legislative body',\n",
       "  'description': 'legislative body governing this entity; political institution with elected representatives, such as a parliament/legislature or council'},\n",
       " 'P19': {'label': 'place of birth',\n",
       "  'description': 'most specific known (e.g. city instead of country, or hospital instead of city) birth location of a person, animal or fictional character'},\n",
       " 'P20': {'label': 'place of death',\n",
       "  'description': 'most specific known (e.g. city instead of country, or hospital instead of city) death location of a person, animal or fictional character'},\n",
       " 'P138': {'label': 'named after',\n",
       "  'description': 'entity or event that inspired the subject\\'s name, or namesake (in at least one language). Qualifier \"applies to name\" (P5168) can be used to indicate which one'},\n",
       " 'P161': {'label': 'cast member',\n",
       "  'description': 'actor in the subject production [use \"character role\" (P453) and/or \"name of the character role\" (P4633) as qualifiers] [use \"voice actor\" (P725) for voice-only role]'},\n",
       " 'P2176': {'label': 'drug used for treatment',\n",
       "  'description': 'drug, procedure, or therapy that can be used to treat a medical condition'},\n",
       " 'P641': {'label': 'sport',\n",
       "  'description': 'sport in which the subject participates or belongs to'},\n",
       " 'P54': {'label': 'member of sports team',\n",
       "  'description': 'sports teams or clubs that the subject currently represents or formerly represented'},\n",
       " 'P1050': {'label': 'medical condition',\n",
       "  'description': 'any state relevant to the health of an organism, including diseases and positive conditions'},\n",
       " 'P159': {'label': 'headquarters location',\n",
       "  'description': 'specific location where an organization\\'s headquarters is or has been situated. Inverse property of \"occupant\" (P466).'},\n",
       " 'P131': {'label': 'located in the administrative terroritorial entity',\n",
       "  'description': 'the item is located on the territory of the following administrative entity. Use P276 (location) for specifying locations that are non-administrative places and for items about events'},\n",
       " 'P780': {'label': 'symptoms',\n",
       "  'description': 'possible symptoms of a medical condition'},\n",
       " 'P36': {'label': 'capital',\n",
       "  'description': 'primary city of a country, province, state or other type of administrative territorial entity'},\n",
       " 'P140': {'label': 'religion',\n",
       "  'description': 'religion of a person, organization or religious building, or associated with this subject'},\n",
       " 'P2283': {'label': 'uses',\n",
       "  'description': 'item or concept used by the subject or in the operation (see also instrument [P1303] and armament [P520])'},\n",
       " 'P488': {'label': 'chairperson',\n",
       "  'description': 'presiding member of an organization, group or body'},\n",
       " 'P47': {'label': 'shares border with',\n",
       "  'description': 'countries or administrative subdivisions, of equal level, that this item borders, either by land or water. A single common point is enough.'},\n",
       " 'P4552': {'label': 'mountain range',\n",
       "  'description': 'range or subrange to which the geographical item belongs'},\n",
       " 'P106': {'label': 'occupation',\n",
       "  'description': 'occupation of a person; see also \"field of work\" (Property:P101), \"position held\" (Property:P39)'},\n",
       " 'P3373': {'label': 'sibling',\n",
       "  'description': 'the subject has the object as their sibling (brother, sister, etc.). Use \"relative\" (P1038) for siblings-in-law (brother-in-law, sister-in-law, etc.) and step-siblings (step-brothers, step-sisters, etc.)'},\n",
       " 'P551': {'label': 'residence',\n",
       "  'description': 'the place where the person is or has been, resident'},\n",
       " 'P26': {'label': 'spouse',\n",
       "  'description': 'the subject has the object as their spouse (husband, wife, partner, etc.). Use \"unmarried partner\" (P451) for non-married companions'},\n",
       " 'P1412': {'label': 'languages spoken, written, or signed',\n",
       "  'description': 'language(s) that a person speaks, writes or signs, including the native language(s)'},\n",
       " 'P466': {'label': 'occupant',\n",
       "  'description': 'a person or organization occupying property'},\n",
       " 'P800': {'label': 'notable works',\n",
       "  'description': \"notable scientific, artistic or literary work, or other work of significance among subject's works\"},\n",
       " 'P2348': {'label': 'time period',\n",
       "  'description': 'time period (historic period or era, sports season, theatre season, legislative period etc.) in which the subject occurred'},\n",
       " 'P1454': {'label': 'legal form',\n",
       "  'description': 'legal form of an organization'},\n",
       " 'P495': {'label': 'country of origin',\n",
       "  'description': 'country of origin of this item (creative work, food, phrase, product, etc.)'},\n",
       " 'P407': {'label': 'language of work or name',\n",
       "  'description': 'language associated with this creative work (such as books, shows, songs, or websites) or a name (for persons use \"native language\" (P103) and \"languages spoken, written or signed\" (P1412))'},\n",
       " 'P102': {'label': 'member of political party',\n",
       "  'description': 'the political party of which this politician is or has been a member'},\n",
       " 'P69': {'label': 'educated at',\n",
       "  'description': 'educational institution attended by subject'},\n",
       " 'P840': {'label': 'narrative location',\n",
       "  'description': 'the narrative of the work is set in this location'},\n",
       " 'P264': {'label': 'record label',\n",
       "  'description': 'brand and trademark associated with the marketing of subject music recordings and music videos'},\n",
       " 'P172': {'label': 'ethnic group',\n",
       "  'description': \"subject's ethnicity (consensus is that a VERY high standard of proof is needed for this field to be used. In general this means 1) the subject claims it themself, or 2) it is widely agreed on by scholars, or 3) is fictional and portrayed as such)\"},\n",
       " 'P84': {'label': 'architect',\n",
       "  'description': 'person or architectural firm responsible for designing this building'},\n",
       " 'P169': {'label': 'chief executive officer',\n",
       "  'description': 'highest-ranking corporate officer appointed as the CEO within an organization'},\n",
       " 'P35': {'label': 'head of state',\n",
       "  'description': 'official with the highest formal authority in a country/state'},\n",
       " 'P17': {'label': 'country',\n",
       "  'description': \"sovereign state of this item; don't use on humans\"},\n",
       " 'P170': {'label': 'creator',\n",
       "  'description': 'maker of this creative work or other object (where no more specific property exists). Paintings with unknown painters, use \"anonymous\" (Q4233718) as value.'},\n",
       " 'P57': {'label': 'director',\n",
       "  'description': 'director(s) of film, TV-series, stageplay, video game or similar'},\n",
       " 'P40': {'label': 'child',\n",
       "  'description': 'subject has object as biological, foster, and/or adoptive child'},\n",
       " 'P135': {'label': 'movement',\n",
       "  'description': 'literary, artistic, scientific or philosophical movement or scene associated with this person or work'},\n",
       " 'P50': {'label': 'author',\n",
       "  'description': 'main creator(s) of a written work (use on works, not humans); use P2093 when Wikidata item is unknown or does not exist'},\n",
       " 'P1303': {'label': 'instrument',\n",
       "  'description': 'musical instrument that a person plays'},\n",
       " 'P463': {'label': 'member of',\n",
       "  'description': 'organization, musical group, or club to which the subject belongs. Do not use for membership in ethnic or social groups, nor for holding a position such as a member of parliament (use P39 for that).'},\n",
       " 'P30': {'label': 'continent',\n",
       "  'description': 'continent of which the subject is a part'},\n",
       " 'P3095': {'label': 'practiced by',\n",
       "  'description': 'type of agents that study this subject or work in this profession'},\n",
       " 'P113': {'label': 'airline hub',\n",
       "  'description': 'airport that serves as a hub for an airline'},\n",
       " 'P27': {'label': 'country of citizenship',\n",
       "  'description': 'the object is a country that recognizes the subject as its citizen'},\n",
       " 'P361': {'label': 'part of',\n",
       "  'description': 'object of which the subject is a part (if this subject is already part of object A which is a part of object B, then please only make the subject part of object A). Inverse property of \"has part\" (P527, see also \"has parts of the class\" (P2670)).'},\n",
       " 'P1056': {'label': 'product or material produced',\n",
       "  'description': 'material or product produced by a government agency, business, industry, facility, or process'},\n",
       " 'P740': {'label': 'location of formation',\n",
       "  'description': 'location where a group or organization was formed'},\n",
       " 'P119': {'label': 'place of burial',\n",
       "  'description': 'location of grave, resting place, place of ash-scattering, etc, (e.g. town/city or cemetery) for a person or animal. There may be several places: e.g. re-burials, cenotaphs, parts of body buried separately.'},\n",
       " 'P1995': {'label': 'health specialty',\n",
       "  'description': 'main specialty that diagnoses, prevent human illness, injury and other physical and mental impairments'},\n",
       " 'P530': {'label': 'diplomatic relation',\n",
       "  'description': 'diplomatic relations of the country'},\n",
       " 'P457': {'label': 'foundational text',\n",
       "  'description': 'text through which an institution or object has been created or established'},\n",
       " 'P112': {'label': 'founded by',\n",
       "  'description': 'founder or co-founder of this organization, religion or place'},\n",
       " 'P37': {'label': 'official language',\n",
       "  'description': 'language designated as official by this item'},\n",
       " 'P366': {'label': 'use',\n",
       "  'description': 'main use of the subject (includes current and former usage)'},\n",
       " 'P114': {'label': 'airline alliance',\n",
       "  'description': 'alliance the airline belongs to'},\n",
       " 'P108': {'label': 'employer',\n",
       "  'description': 'person or organization for which the subject works or worked'},\n",
       " 'P737': {'label': 'influenced by',\n",
       "  'description': 'this person, idea, etc. is informed by that other person, idea, etc., e.g. \"Heidegger was influenced by Aristotle\".'},\n",
       " 'P101': {'label': 'field of work',\n",
       "  'description': 'specialization of a person or organization; see P106 for the occupation'},\n",
       " 'P136': {'label': 'genre',\n",
       "  'description': \"creative work's genre or an artist's field of work (P101). Use main subject (P921) to relate creative works to their topic\"}}"
      ]
     },
     "execution_count": 9,
     "metadata": {},
     "output_type": "execute_result"
    }
   ],
   "source": [
    "realtions_description_dict"
   ]
  }
 ],
 "metadata": {
  "kernelspec": {
   "display_name": "Python 3 (ipykernel)",
   "language": "python",
   "name": "python3"
  },
  "language_info": {
   "codemirror_mode": {
    "name": "ipython",
    "version": 3
   },
   "file_extension": ".py",
   "mimetype": "text/x-python",
   "name": "python",
   "nbconvert_exporter": "python",
   "pygments_lexer": "ipython3",
   "version": "3.9.7"
  }
 },
 "nbformat": 4,
 "nbformat_minor": 5
}
